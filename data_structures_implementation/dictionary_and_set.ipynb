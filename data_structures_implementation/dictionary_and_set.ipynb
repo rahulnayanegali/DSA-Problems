{
  "nbformat": 4,
  "nbformat_minor": 0,
  "metadata": {
    "colab": {
      "provenance": []
    },
    "kernelspec": {
      "name": "python3",
      "display_name": "Python 3"
    },
    "language_info": {
      "name": "python"
    }
  },
  "cells": [
    {
      "cell_type": "markdown",
      "source": [
        "## **Dictionaries**\n"
      ],
      "metadata": {
        "id": "2szCos2tTJvH"
      }
    },
    {
      "cell_type": "code",
      "source": [
        "# A simple Dictionary\n",
        "MLB_team = {\n",
        "    'Colorado' : 'Rockies',\n",
        "    'Boston'   : 'Red Sox',\n",
        "    'Minnesota': 'Twins',\n",
        "    'Milwaukee': 'Brewers',\n",
        "    'Seattle'  : 'Mariners'\n",
        "}"
      ],
      "metadata": {
        "id": "oeZZWkWuUH5n"
      },
      "execution_count": 4,
      "outputs": []
    },
    {
      "cell_type": "code",
      "source": [
        "# Clearing the dictionary\n",
        "MLB_team.clear()\n",
        "MLB_team"
      ],
      "metadata": {
        "colab": {
          "base_uri": "https://localhost:8080/"
        },
        "id": "QCQ4ng7QUZID",
        "outputId": "da796a18-2132-4bf8-bc27-7c54a39b00bd"
      },
      "execution_count": 6,
      "outputs": [
        {
          "output_type": "execute_result",
          "data": {
            "text/plain": [
              "{}"
            ]
          },
          "metadata": {},
          "execution_count": 6
        }
      ]
    },
    {
      "cell_type": "code",
      "source": [
        "MLB_team = {\n",
        "    'Colorado' : 'Rockies',\n",
        "    'Boston'   : 'Red Sox',\n",
        "    'Minnesota': 'Twins',\n",
        "    'Milwaukee': 'Brewers',\n",
        "    'Seattle'  : 'Mariners'\n",
        "}"
      ],
      "metadata": {
        "id": "QiqCSe4bUmjC"
      },
      "execution_count": 7,
      "outputs": []
    },
    {
      "cell_type": "code",
      "source": [
        "# \"in\" and \"not in\" operator\n",
        "print('Boston' in MLB_team) # True\n",
        "print('New York' not in MLB_team) # True\n",
        "print('Bronx' in MLB_team) # False"
      ],
      "metadata": {
        "colab": {
          "base_uri": "https://localhost:8080/"
        },
        "id": "a22N0IMpUs68",
        "outputId": "952fbf48-eaf7-4eb2-d77e-28b9fc6f0ba3"
      },
      "execution_count": 10,
      "outputs": [
        {
          "output_type": "stream",
          "name": "stdout",
          "text": [
            "True\n",
            "True\n",
            "False\n"
          ]
        }
      ]
    },
    {
      "cell_type": "code",
      "source": [
        "# len to get size\n",
        "len(MLB_team)"
      ],
      "metadata": {
        "colab": {
          "base_uri": "https://localhost:8080/"
        },
        "id": "OkIjt73vVp4G",
        "outputId": "224e776b-a9a9-406e-b50d-1730496b1b6a"
      },
      "execution_count": 12,
      "outputs": [
        {
          "output_type": "execute_result",
          "data": {
            "text/plain": [
              "5"
            ]
          },
          "metadata": {},
          "execution_count": 12
        }
      ]
    },
    {
      "cell_type": "code",
      "source": [
        "# \"get\" method to retrieve value from the key\n",
        "print(MLB_team.get('Boston'))\n",
        "print(MLB_team.get('New York'))"
      ],
      "metadata": {
        "colab": {
          "base_uri": "https://localhost:8080/"
        },
        "id": "x0Q2cLPWV6Eo",
        "outputId": "9a43fba4-128f-4605-9402-aef9b1fdbd62"
      },
      "execution_count": 14,
      "outputs": [
        {
          "output_type": "stream",
          "name": "stdout",
          "text": [
            "Red Sox\n",
            "None\n"
          ]
        }
      ]
    },
    {
      "cell_type": "code",
      "source": [
        "# list dictionaries in list of tuples\n",
        "list(MLB_team.items())"
      ],
      "metadata": {
        "colab": {
          "base_uri": "https://localhost:8080/"
        },
        "id": "32ha6siKV6Hh",
        "outputId": "63670c3d-a51c-43ee-8d54-8594266b3981"
      },
      "execution_count": 17,
      "outputs": [
        {
          "output_type": "execute_result",
          "data": {
            "text/plain": [
              "[('Colorado', 'Rockies'),\n",
              " ('Boston', 'Red Sox'),\n",
              " ('Minnesota', 'Twins'),\n",
              " ('Milwaukee', 'Brewers'),\n",
              " ('Seattle', 'Mariners')]"
            ]
          },
          "metadata": {},
          "execution_count": 17
        }
      ]
    },
    {
      "cell_type": "code",
      "source": [
        "# list only keys of dict\n",
        "list(MLB_team.keys())"
      ],
      "metadata": {
        "colab": {
          "base_uri": "https://localhost:8080/"
        },
        "id": "PUlA2T0RV6KB",
        "outputId": "04ff5ca6-69a8-473d-deba-05b00f268fc5"
      },
      "execution_count": 19,
      "outputs": [
        {
          "output_type": "execute_result",
          "data": {
            "text/plain": [
              "['Colorado', 'Boston', 'Minnesota', 'Milwaukee', 'Seattle']"
            ]
          },
          "metadata": {},
          "execution_count": 19
        }
      ]
    },
    {
      "cell_type": "code",
      "source": [
        "# list only valus of dict\n",
        "list(MLB_team.values())"
      ],
      "metadata": {
        "colab": {
          "base_uri": "https://localhost:8080/"
        },
        "id": "DL9YzhAtYNNP",
        "outputId": "fa53e2f2-f826-42bd-b4fa-ecf1a9361899"
      },
      "execution_count": 20,
      "outputs": [
        {
          "output_type": "execute_result",
          "data": {
            "text/plain": [
              "['Rockies', 'Red Sox', 'Twins', 'Brewers', 'Mariners']"
            ]
          },
          "metadata": {},
          "execution_count": 20
        }
      ]
    },
    {
      "cell_type": "code",
      "source": [
        "# \"pop\" method to remove an item using key\n",
        "removed_value = MLB_team.pop('Boston')\n",
        "print(removed_value)"
      ],
      "metadata": {
        "colab": {
          "base_uri": "https://localhost:8080/"
        },
        "id": "_2QmdrrFYYg6",
        "outputId": "06fd51eb-7b41-45e0-9b16-25c4433f9b7c"
      },
      "execution_count": 21,
      "outputs": [
        {
          "output_type": "stream",
          "name": "stdout",
          "text": [
            "Red Sox\n"
          ]
        }
      ]
    },
    {
      "cell_type": "code",
      "source": [
        "# \"popitem\" method to remove the item added\n",
        "last_added_item = MLB_team.popitem()\n",
        "print(last_added_item)"
      ],
      "metadata": {
        "colab": {
          "base_uri": "https://localhost:8080/"
        },
        "id": "nOPsJz0vY3uj",
        "outputId": "10d9d82e-cb4c-498e-b94b-35cc28452c0b"
      },
      "execution_count": 22,
      "outputs": [
        {
          "output_type": "stream",
          "name": "stdout",
          "text": [
            "('Seattle', 'Mariners')\n"
          ]
        }
      ]
    },
    {
      "cell_type": "code",
      "source": [
        "# update dictionary using \"update\" method\n",
        "MLB_team_updated = {'Boston': 'Red Sox', 'Seattle': 'Mariners'}\n",
        "MLB_team.update(MLB_team_updated)\n",
        "list(MLB_team.items())"
      ],
      "metadata": {
        "colab": {
          "base_uri": "https://localhost:8080/"
        },
        "id": "pFQQrWAsZKwX",
        "outputId": "1caa2989-6caf-478f-e17c-e8f439edd00f"
      },
      "execution_count": 23,
      "outputs": [
        {
          "output_type": "execute_result",
          "data": {
            "text/plain": [
              "[('Colorado', 'Rockies'),\n",
              " ('Minnesota', 'Twins'),\n",
              " ('Milwaukee', 'Brewers'),\n",
              " ('Boston', 'Red Sox'),\n",
              " ('Seattle', 'Mariners')]"
            ]
          },
          "metadata": {},
          "execution_count": 23
        }
      ]
    },
    {
      "cell_type": "code",
      "execution_count": 11,
      "metadata": {
        "colab": {
          "base_uri": "https://localhost:8080/"
        },
        "id": "eDtL6kItSezi",
        "outputId": "162ab425-7b77-424d-99b7-b294a2966d12"
      },
      "outputs": [
        {
          "output_type": "stream",
          "name": "stdout",
          "text": [
            "{'a': [1, 2, 3], 'b': [1, 2, 3], 'c': [1, 2, 3]}\n"
          ]
        }
      ],
      "source": [
        "# fromkeys method\n",
        "keys = ('a', 'b', 'c')\n",
        "value = [1,2,3]\n",
        "new_dict = dict.fromkeys(keys, value)\n",
        "print(new_dict)"
      ]
    },
    {
      "cell_type": "markdown",
      "source": [
        "###**Sets**"
      ],
      "metadata": {
        "id": "xlsE-9fob11F"
      }
    },
    {
      "cell_type": "code",
      "source": [
        "# Creating a set using set() function\n",
        "my_set = set([1, 2, 3, 4, 5])\n",
        "print( my_set)\n",
        "\n",
        "# Creating a set using curly braces\n",
        "another_set = {6, 7, 8, 9, 10}\n",
        "print(another_set)"
      ],
      "metadata": {
        "colab": {
          "base_uri": "https://localhost:8080/"
        },
        "id": "uM2taZI0b3pf",
        "outputId": "da7cf445-84ea-4f2c-9abc-56b250903a93"
      },
      "execution_count": 24,
      "outputs": [
        {
          "output_type": "stream",
          "name": "stdout",
          "text": [
            "{1, 2, 3, 4, 5}\n",
            "{6, 7, 8, 9, 10}\n"
          ]
        }
      ]
    },
    {
      "cell_type": "code",
      "source": [
        "# add elements to a set using the add() method\n",
        "my_set.add(6)\n",
        "print(my_set)"
      ],
      "metadata": {
        "colab": {
          "base_uri": "https://localhost:8080/"
        },
        "id": "y6UxwDmUb8kZ",
        "outputId": "0e49a64f-d8c5-454c-c474-ccdcf6f2ebbe"
      },
      "execution_count": 27,
      "outputs": [
        {
          "output_type": "stream",
          "name": "stdout",
          "text": [
            "{1, 2, 3, 4, 5, 6}\n"
          ]
        }
      ]
    },
    {
      "cell_type": "code",
      "source": [
        "# Remove elements from a set using the remove(), discard(), and pop() methods\n",
        "\n",
        "# remove() - raises KeyError if the element is not found\n",
        "my_set.remove(6)\n",
        "print(my_set)\n",
        "\n",
        "# discard() - does not raise an error if the element is not found\n",
        "my_set.discard(5)\n",
        "print(my_set)\n",
        "\n",
        "# pop() removes and returns an arbitrary element\n",
        "popped_element = my_set.pop()\n",
        "print(\"Popped element:\", popped_element)\n",
        "print(my_set)"
      ],
      "metadata": {
        "colab": {
          "base_uri": "https://localhost:8080/"
        },
        "id": "NZ5YPbJ8cAi7",
        "outputId": "709949f6-8d4a-49aa-8271-0486422b1ce8"
      },
      "execution_count": 28,
      "outputs": [
        {
          "output_type": "stream",
          "name": "stdout",
          "text": [
            "{1, 2, 3, 4, 5}\n",
            "{1, 2, 3, 4}\n",
            "Popped element: 1\n",
            "{2, 3, 4}\n"
          ]
        }
      ]
    },
    {
      "cell_type": "code",
      "source": [
        "# Remove all elements from a set using the clear() method\n",
        "my_set.clear()\n",
        "print(my_set)"
      ],
      "metadata": {
        "colab": {
          "base_uri": "https://localhost:8080/"
        },
        "id": "2BhhmawvcSrE",
        "outputId": "e008b9bd-260c-48e3-c945-2d4fa0473c2f"
      },
      "execution_count": 29,
      "outputs": [
        {
          "output_type": "stream",
          "name": "stdout",
          "text": [
            "set()\n"
          ]
        }
      ]
    },
    {
      "cell_type": "markdown",
      "source": [
        "### Set operations\n"
      ],
      "metadata": {
        "id": "iG8hkjTGcg31"
      }
    },
    {
      "cell_type": "code",
      "source": [
        "set1 = {1, 2, 3}\n",
        "set2 = {3, 4, 5}\n",
        "union_set = set1.union(set2)\n",
        "print(\"Union of set1 and set2:\", union_set)"
      ],
      "metadata": {
        "colab": {
          "base_uri": "https://localhost:8080/"
        },
        "id": "9WM9-2I7cig-",
        "outputId": "c21acfcd-2a6b-48c2-f237-962498d16b41"
      },
      "execution_count": 30,
      "outputs": [
        {
          "output_type": "stream",
          "name": "stdout",
          "text": [
            "Union of set1 and set2: {1, 2, 3, 4, 5}\n"
          ]
        }
      ]
    },
    {
      "cell_type": "code",
      "source": [
        "# The intersection() method or & operator can be used to find common elements between two sets\n",
        "intersection_set = set1.intersection(set2)\n",
        "print(\"Intersection of set1 and set2:\", intersection_set)\n",
        "print(\"Intersection of set1 and set2 using '&' operator:\", set1 & set2)"
      ],
      "metadata": {
        "colab": {
          "base_uri": "https://localhost:8080/"
        },
        "id": "hg3EDOK9cjnV",
        "outputId": "e3fc5aab-a456-4cb0-9e52-66ca4a74194b"
      },
      "execution_count": 34,
      "outputs": [
        {
          "output_type": "stream",
          "name": "stdout",
          "text": [
            "Intersection of set1 and set2: {3}\n",
            "Intersection of set1 and set2 using '&' operator: {3}\n"
          ]
        }
      ]
    },
    {
      "cell_type": "code",
      "source": [
        "# The difference() method or - operator can be used to find elements that are in one set but not in another\n",
        "difference_set = set1.difference(set2)\n",
        "print(\"Difference of set1 and set2:\", difference_set)\n",
        "print(\"Difference of set1 and set2 using '-' operator:\", set1 - set2)"
      ],
      "metadata": {
        "colab": {
          "base_uri": "https://localhost:8080/"
        },
        "id": "FCs9PblXcm4d",
        "outputId": "e965195f-9664-40fa-e032-4ef310ec3f1f"
      },
      "execution_count": 36,
      "outputs": [
        {
          "output_type": "stream",
          "name": "stdout",
          "text": [
            "Difference of set1 and set2: {1, 2}\n",
            "Difference of set1 and set2 using '-' operator: {1, 2}\n"
          ]
        }
      ]
    },
    {
      "cell_type": "code",
      "source": [
        "# The symmetric_difference() method or ^ operator can be used to find elements that are in either of the sets but not in both\n",
        "symmetric_difference_set = set1.symmetric_difference(set2)\n",
        "print(\"Symmetric difference of set1 and set2:\", symmetric_difference_set)\n",
        "print(\"Symmetric difference of set1 and set2 using '^' operator:\", set1 ^ set2)"
      ],
      "metadata": {
        "colab": {
          "base_uri": "https://localhost:8080/"
        },
        "id": "3TepC4Fic8bS",
        "outputId": "4eefb1e3-acd2-45b0-ea3b-96ab1c2c35c3"
      },
      "execution_count": 37,
      "outputs": [
        {
          "output_type": "stream",
          "name": "stdout",
          "text": [
            "Symmetric difference of set1 and set2: {1, 2, 4, 5}\n",
            "Symmetric difference of set1 and set2 using '^' operator: {1, 2, 4, 5}\n"
          ]
        }
      ]
    },
    {
      "cell_type": "code",
      "source": [
        "# check if a set is a subset or superset of another set using issubset() and issuperset() methods:\n",
        "set3 = {1, 2}\n",
        "print(\"Is set3 a subset of set1?\", set3.issubset(set1))\n",
        "print(\"Is set1 a superset of set3?\", set1.issuperset(set3))"
      ],
      "metadata": {
        "colab": {
          "base_uri": "https://localhost:8080/"
        },
        "id": "3_uSyIQ4dPXH",
        "outputId": "b824b7d0-3739-4f5d-be94-d9cbe6882993"
      },
      "execution_count": 38,
      "outputs": [
        {
          "output_type": "stream",
          "name": "stdout",
          "text": [
            "Is set3 a subset of set1? True\n",
            "Is set1 a superset of set3? True\n"
          ]
        }
      ]
    },
    {
      "cell_type": "code",
      "source": [],
      "metadata": {
        "id": "gdGf9VQXdXOv"
      },
      "execution_count": null,
      "outputs": []
    }
  ]
}