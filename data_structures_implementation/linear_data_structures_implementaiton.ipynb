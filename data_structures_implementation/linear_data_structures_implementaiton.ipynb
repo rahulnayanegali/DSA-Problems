{
  "cells": [
    {
      "cell_type": "markdown",
      "metadata": {
        "id": "mPnngHmc-mdL"
      },
      "source": [
        "##Array"
      ]
    },
    {
      "cell_type": "code",
      "execution_count": 18,
      "metadata": {
        "id": "upPUajGUSybk"
      },
      "outputs": [],
      "source": [
        "from array import array"
      ]
    },
    {
      "cell_type": "code",
      "execution_count": 19,
      "metadata": {
        "id": "GbdK1F8T-5AU"
      },
      "outputs": [],
      "source": [
        "nums = array(\"i\", [1, 2, 3, 4])"
      ]
    },
    {
      "cell_type": "code",
      "execution_count": 21,
      "metadata": {
        "colab": {
          "base_uri": "https://localhost:8080/"
        },
        "id": "Ev6EEkHOADKb",
        "outputId": "12b1f9c9-9d66-4c83-dd38-376d4676a214"
      },
      "outputs": [
        {
          "name": "stdout",
          "output_type": "stream",
          "text": [
            "array('i', [1, 2, 3, 4, 5])\n"
          ]
        }
      ],
      "source": [
        "#Insert\n",
        "nums.append(5)\n",
        "print(nums)"
      ]
    },
    {
      "cell_type": "code",
      "execution_count": 22,
      "metadata": {
        "colab": {
          "base_uri": "https://localhost:8080/"
        },
        "id": "lOrUS08KAPT9",
        "outputId": "dbacd245-3a7a-4039-a6b3-501ced1e4da4"
      },
      "outputs": [
        {
          "name": "stdout",
          "output_type": "stream",
          "text": [
            "array('i', [1, 2, 6, 3, 4, 5])\n"
          ]
        }
      ],
      "source": [
        "#Update\n",
        "nums.insert(2, 6)\n",
        "print(nums)"
      ]
    },
    {
      "cell_type": "code",
      "execution_count": 23,
      "metadata": {
        "colab": {
          "base_uri": "https://localhost:8080/"
        },
        "id": "t30anV3oAe1m",
        "outputId": "6fc3ed26-11cc-422a-c101-3657e89c43dc"
      },
      "outputs": [
        {
          "name": "stdout",
          "output_type": "stream",
          "text": [
            "array('i', [1, 2, 6, 4, 5])\n"
          ]
        }
      ],
      "source": [
        "#Delete\n",
        "nums.remove(3) # removing by passing actual value\n",
        "print(nums)"
      ]
    },
    {
      "cell_type": "code",
      "execution_count": 26,
      "metadata": {
        "colab": {
          "base_uri": "https://localhost:8080/"
        },
        "id": "atvlrT_6VQAQ",
        "outputId": "81d19560-21b5-4102-c35f-014beed59cce"
      },
      "outputs": [
        {
          "name": "stdout",
          "output_type": "stream",
          "text": [
            "array('i', [6, 4, 5])\n"
          ]
        }
      ],
      "source": [
        "# Using actual del\n",
        "del nums[0]\n",
        "print(nums)"
      ]
    },
    {
      "cell_type": "code",
      "execution_count": 27,
      "metadata": {
        "colab": {
          "base_uri": "https://localhost:8080/"
        },
        "id": "a171dfJ4A1Zh",
        "outputId": "f658c140-ed2c-4061-a0f2-be995801d4b0"
      },
      "outputs": [
        {
          "name": "stdout",
          "output_type": "stream",
          "text": [
            "5\n"
          ]
        }
      ],
      "source": [
        "#Search\n",
        "print(nums[2])"
      ]
    },
    {
      "cell_type": "markdown",
      "metadata": {
        "id": "-8aYb47vWqV7"
      },
      "source": [
        "#Linkedlist"
      ]
    },
    {
      "cell_type": "code",
      "execution_count": 29,
      "metadata": {
        "id": "5d14i2MyWra3"
      },
      "outputs": [],
      "source": [
        "class Node:\n",
        "    def __init__(self, data):\n",
        "        self.data = data\n",
        "        self.next = None\n",
        "\n",
        "class LinkedList:\n",
        "    def __init__(self):\n",
        "        self.head = None\n",
        "\n",
        "    def append(self, data):\n",
        "        new_node = Node(data)\n",
        "        if self.head is None:\n",
        "            self.head = new_node\n",
        "            return\n",
        "        last = self.head\n",
        "        while last.next:\n",
        "            last = last.next\n",
        "        last.next = new_node\n",
        "\n",
        "    def prepend(self, data):\n",
        "        new_node = Node(data)\n",
        "        new_node.next = self.head\n",
        "        self.head = new_node\n",
        "\n",
        "    def insert_after(self, prev_node, data):\n",
        "        if not prev_node:\n",
        "            print(\"Previous node does not exist.\")\n",
        "            return\n",
        "        new_node = Node(data)\n",
        "        new_node.next = prev_node.next\n",
        "        prev_node.next = new_node\n",
        "\n",
        "    def delete_node(self, key):\n",
        "        curr_node = self.head\n",
        "        if curr_node and curr_node.data == key:\n",
        "            self.head = curr_node.next\n",
        "            curr_node = None\n",
        "            return\n",
        "\n",
        "        prev = None\n",
        "        while curr_node and curr_node.data != key:\n",
        "            prev = curr_node\n",
        "            curr_node = curr_node.next\n",
        "\n",
        "        if curr_node is None:\n",
        "            return\n",
        "\n",
        "        prev.next = curr_node.next\n",
        "        curr_node = None\n",
        "\n",
        "    def search(self, key):\n",
        "        curr_node = self.head\n",
        "        while curr_node:\n",
        "            if curr_node.data == key:\n",
        "                return True\n",
        "            curr_node = curr_node.next\n",
        "        return False\n",
        "\n",
        "    def print_list(self):\n",
        "        curr_node = self.head\n",
        "        while curr_node:\n",
        "            print(curr_node.data, end=\" \")\n",
        "            curr_node = curr_node.next\n",
        "        print()"
      ]
    },
    {
      "cell_type": "code",
      "execution_count": 30,
      "metadata": {
        "colab": {
          "base_uri": "https://localhost:8080/"
        },
        "id": "BkdQMCzbXn0O",
        "outputId": "38d1fd7b-1d46-4802-f914-9b7eb8261752"
      },
      "outputs": [
        {
          "name": "stdout",
          "output_type": "stream",
          "text": [
            "1 2 3 \n"
          ]
        }
      ],
      "source": [
        "# Create a new linked list\n",
        "llist = LinkedList()\n",
        "\n",
        "# Append\n",
        "llist.append(1)\n",
        "llist.append(2)\n",
        "llist.append(3)\n",
        "\n",
        "llist.print_list()"
      ]
    },
    {
      "cell_type": "code",
      "execution_count": 31,
      "metadata": {
        "colab": {
          "base_uri": "https://localhost:8080/"
        },
        "id": "lEA6WjEbhLyO",
        "outputId": "39c25f68-d885-4977-a7b5-86025f9b1cdd"
      },
      "outputs": [
        {
          "name": "stdout",
          "output_type": "stream",
          "text": [
            "0 1 2 3 \n"
          ]
        }
      ],
      "source": [
        "# Prepend\n",
        "llist.prepend(0)\n",
        "llist.print_list()"
      ]
    },
    {
      "cell_type": "code",
      "execution_count": 32,
      "metadata": {
        "colab": {
          "base_uri": "https://localhost:8080/"
        },
        "id": "jN2tuC2JhSeQ",
        "outputId": "c4888e4f-131d-4cf2-9900-91ab8db09f0e"
      },
      "outputs": [
        {
          "name": "stdout",
          "output_type": "stream",
          "text": [
            "0 1 4 2 3 \n"
          ]
        }
      ],
      "source": [
        "\n",
        "# Insert a node after a specific node\n",
        "node = llist.head.next  #second node\n",
        "llist.insert_after(node, 4)\n",
        "llist.print_list()"
      ]
    },
    {
      "cell_type": "code",
      "execution_count": 33,
      "metadata": {
        "colab": {
          "base_uri": "https://localhost:8080/"
        },
        "id": "X0_Fa65thZqD",
        "outputId": "df3fd945-1dcd-4ae8-85e9-c27a218d65f7"
      },
      "outputs": [
        {
          "name": "stdout",
          "output_type": "stream",
          "text": [
            "True\n",
            "False\n"
          ]
        }
      ],
      "source": [
        "# Search\n",
        "print(llist.search(4))\n",
        "print(llist.search(5))"
      ]
    },
    {
      "cell_type": "code",
      "execution_count": 34,
      "metadata": {
        "colab": {
          "base_uri": "https://localhost:8080/"
        },
        "id": "89AB9ia5hetJ",
        "outputId": "5a76ab67-53cd-4028-abbe-ba2faebfba5d"
      },
      "outputs": [
        {
          "name": "stdout",
          "output_type": "stream",
          "text": [
            "0 1 2 3 \n"
          ]
        }
      ],
      "source": [
        "# Delete\n",
        "llist.delete_node(4)\n",
        "llist.print_list()  # Output: 0 1 2 3"
      ]
    },
    {
      "cell_type": "code",
      "execution_count": null,
      "metadata": {
        "id": "6mqIQ4CVhfhS"
      },
      "outputs": [],
      "source": []
    },
    {
      "cell_type": "markdown",
      "metadata": {
        "id": "ZixGnnwMhypH"
      },
      "source": [
        "#Stack"
      ]
    },
    {
      "cell_type": "code",
      "execution_count": 37,
      "metadata": {
        "id": "wL05gabMh0HU"
      },
      "outputs": [],
      "source": [
        "class Stack:\n",
        "    def __init__(self):\n",
        "        self.stack = []\n",
        "\n",
        "    def push(self, item):\n",
        "        self.stack.append(item)\n",
        "\n",
        "    def pop(self):\n",
        "        if not self.is_empty():\n",
        "            return self.stack.pop()\n",
        "\n",
        "    def peek(self):\n",
        "        if not self.is_empty():\n",
        "            return self.stack[-1]\n",
        "\n",
        "    def is_empty(self):\n",
        "        return len(self.stack) == 0\n",
        "\n",
        "    def size(self):\n",
        "        return len(self.stack)\n"
      ]
    },
    {
      "cell_type": "code",
      "execution_count": 39,
      "metadata": {
        "id": "EnEmRH8kh9e1"
      },
      "outputs": [],
      "source": [
        "#Push\n",
        "stack = Stack()\n",
        "stack.push(1)\n",
        "stack.push(2)\n",
        "stack.push(3)"
      ]
    },
    {
      "cell_type": "code",
      "execution_count": 40,
      "metadata": {
        "colab": {
          "base_uri": "https://localhost:8080/"
        },
        "id": "XJmPpvJ_iHwg",
        "outputId": "7ca9676b-5750-417e-e1ed-ebbf7138aced"
      },
      "outputs": [
        {
          "data": {
            "text/plain": [
              "3"
            ]
          },
          "execution_count": 40,
          "metadata": {},
          "output_type": "execute_result"
        }
      ],
      "source": [
        "#Pop\n",
        "stack.pop()"
      ]
    },
    {
      "cell_type": "code",
      "execution_count": 41,
      "metadata": {
        "colab": {
          "base_uri": "https://localhost:8080/"
        },
        "id": "UI0qkxBSieme",
        "outputId": "3db67068-7378-4eb8-e384-1fd05a2e1c4f"
      },
      "outputs": [
        {
          "data": {
            "text/plain": [
              "2"
            ]
          },
          "execution_count": 41,
          "metadata": {},
          "output_type": "execute_result"
        }
      ],
      "source": [
        "#Peek\n",
        "stack.peek()"
      ]
    },
    {
      "cell_type": "code",
      "execution_count": 42,
      "metadata": {
        "colab": {
          "base_uri": "https://localhost:8080/"
        },
        "id": "AfGDWdfeijDG",
        "outputId": "d678673b-47cb-4520-cf25-93d2d14c6b3a"
      },
      "outputs": [
        {
          "data": {
            "text/plain": [
              "False"
            ]
          },
          "execution_count": 42,
          "metadata": {},
          "output_type": "execute_result"
        }
      ],
      "source": [
        "stack.is_empty()"
      ]
    },
    {
      "cell_type": "code",
      "execution_count": 43,
      "metadata": {
        "colab": {
          "base_uri": "https://localhost:8080/"
        },
        "id": "uTR3wh6cimFf",
        "outputId": "a1b22820-c311-49f2-9fed-3365d5d0e4ea"
      },
      "outputs": [
        {
          "data": {
            "text/plain": [
              "2"
            ]
          },
          "execution_count": 43,
          "metadata": {},
          "output_type": "execute_result"
        }
      ],
      "source": [
        "#Size\n",
        "stack.size()"
      ]
    },
    {
      "cell_type": "code",
      "execution_count": null,
      "metadata": {
        "id": "Np-NNbXOiub4"
      },
      "outputs": [],
      "source": []
    },
    {
      "cell_type": "markdown",
      "metadata": {
        "id": "QNKpKGygi225"
      },
      "source": [
        "#Queue"
      ]
    },
    {
      "cell_type": "code",
      "execution_count": 44,
      "metadata": {
        "id": "YM9BJVl7i4AE"
      },
      "outputs": [],
      "source": [
        "class Queue:\n",
        "    def __init__(self):\n",
        "        self.queue = []\n",
        "\n",
        "    def enqueue(self, item):\n",
        "        self.queue.append(item)\n",
        "\n",
        "    def dequeue(self):\n",
        "        if not self.is_empty():\n",
        "            return self.queue.pop(0)\n",
        "\n",
        "    def peek(self):\n",
        "        if not self.is_empty():\n",
        "            return self.queue[0]\n",
        "\n",
        "    def is_empty(self):\n",
        "        return len(self.queue) == 0\n",
        "\n",
        "    def size(self):\n",
        "        return len(self.queue)"
      ]
    },
    {
      "cell_type": "code",
      "execution_count": 45,
      "metadata": {
        "colab": {
          "base_uri": "https://localhost:8080/"
        },
        "id": "VDXGHH2tj7b4",
        "outputId": "a654da2c-ed6c-49f0-a375-a29486bff157"
      },
      "outputs": [
        {
          "data": {
            "text/plain": [
              "3"
            ]
          },
          "execution_count": 45,
          "metadata": {},
          "output_type": "execute_result"
        }
      ],
      "source": [
        "#Enqueue\n",
        "queue = Queue()\n",
        "queue.enqueue(1)\n",
        "queue.enqueue(2)\n",
        "queue.enqueue(3)\n",
        "queue.size()"
      ]
    },
    {
      "cell_type": "code",
      "execution_count": 46,
      "metadata": {
        "colab": {
          "base_uri": "https://localhost:8080/"
        },
        "id": "qgUSQmJZkLtq",
        "outputId": "ae60d7ce-dd24-4274-8ba4-a00b8284b80b"
      },
      "outputs": [
        {
          "data": {
            "text/plain": [
              "1"
            ]
          },
          "execution_count": 46,
          "metadata": {},
          "output_type": "execute_result"
        }
      ],
      "source": [
        "#Dequeue\n",
        "queue.dequeue()"
      ]
    },
    {
      "cell_type": "code",
      "execution_count": 47,
      "metadata": {
        "colab": {
          "base_uri": "https://localhost:8080/"
        },
        "id": "Z4NPQI3-kUHY",
        "outputId": "72f90e8f-d2f1-4eb6-94c7-6e6612d7dc90"
      },
      "outputs": [
        {
          "data": {
            "text/plain": [
              "2"
            ]
          },
          "execution_count": 47,
          "metadata": {},
          "output_type": "execute_result"
        }
      ],
      "source": [
        "#Peek\n",
        "queue.peek()"
      ]
    },
    {
      "cell_type": "code",
      "execution_count": 48,
      "metadata": {
        "colab": {
          "base_uri": "https://localhost:8080/"
        },
        "id": "84OjPp0kkY68",
        "outputId": "83db9dc7-8a1f-4206-c1e2-afeaba856e68"
      },
      "outputs": [
        {
          "data": {
            "text/plain": [
              "False"
            ]
          },
          "execution_count": 48,
          "metadata": {},
          "output_type": "execute_result"
        }
      ],
      "source": [
        "queue.is_empty()"
      ]
    },
    {
      "cell_type": "code",
      "execution_count": null,
      "metadata": {
        "id": "dBqZV4dEkdNH"
      },
      "outputs": [],
      "source": []
    }
  ],
  "metadata": {
    "colab": {
      "provenance": []
    },
    "kernelspec": {
      "display_name": "Python 3",
      "name": "python3"
    },
    "language_info": {
      "name": "python"
    }
  },
  "nbformat": 4,
  "nbformat_minor": 0
}
